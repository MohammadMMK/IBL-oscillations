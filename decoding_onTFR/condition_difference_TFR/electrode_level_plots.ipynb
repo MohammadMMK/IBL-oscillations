{
 "cells": [
  {
   "cell_type": "code",
   "execution_count": 4,
   "metadata": {},
   "outputs": [],
   "source": [
    "import os \n",
    "import numpy as np\n",
    "import pandas as pd\n",
    "import mne \n",
    "import h5py\n",
    "import matplotlib.pyplot as plt\n",
    "from PIL import Image\n"
   ]
  },
  {
   "cell_type": "code",
   "execution_count": 6,
   "metadata": {},
   "outputs": [],
   "source": [
    "import os\n",
    "import matplotlib.pyplot as plt\n",
    "import matplotlib.image as mpimg\n",
    "\n",
    "base_path = '/crnldata/cophy/TeamProjects/mohammad/ibl-oscillations/_analyses/_IBLworkflows/decoding/figures'\n",
    "base_TF_path = '/mnt/data/AdaptiveControl/IBLrawdata/TF_data'\n",
    "conditions = ['Stim_NoStim', 'Right_Left', 'BiasRight_BiasLeft']\n",
    "version = 'csd'\n",
    "\n",
    "def plot_images(pid):\n",
    "\n",
    "    path_fig = os.path.join(base_path, pid)\n",
    "    if not os.path.isdir(path_fig):\n",
    "        print(f\"Skipping {pid}\")\n",
    "        return\n",
    "    for condition in conditions:\n",
    "        \n",
    "      \n",
    "        files = [f for f in os.listdir(path_fig) if condition in f and version in f]\n",
    "        files = sorted(files)\n",
    "        \n",
    "        if not files:\n",
    "            return\n",
    "        \n",
    "        \n",
    "        num_files = len(files)\n",
    "        num_columns = 3\n",
    "        num_rows = (num_files + num_columns - 1) // num_columns  # calculate the number of rows needed\n",
    "        \n",
    "        fig, axes = plt.subplots(num_rows, num_columns, figsize=(15, 5 * num_rows))\n",
    "        axes = axes.flatten()\n",
    "        \n",
    "        for ax, file in zip(axes, files):\n",
    "            img_path = os.path.join(path_fig, file)\n",
    "            img = mpimg.imread(img_path)\n",
    "            ax.imshow(img)\n",
    "            ax.set_title(file)\n",
    "            ax.axis('off')\n",
    "        \n",
    "        for ax in axes[num_files:]:\n",
    "            fig.delaxes(ax)\n",
    "        \n",
    "        plt.tight_layout()\n",
    "        output_filename = f\"{condition}_{version}_{pid}.png\"\n",
    "        output_filepath = os.path.join(base_path, output_filename)\n",
    "        # plt.show()\n",
    "        plt.savefig(output_filepath)\n",
    "        plt.close()\n"
   ]
  },
  {
   "cell_type": "code",
   "execution_count": 7,
   "metadata": {},
   "outputs": [],
   "source": [
    "import submitit\n",
    "\n",
    "base_TF_path = '/mnt/data/AdaptiveControl/IBLrawdata/TF_data'\n",
    "\n",
    "for pid in os.listdir(base_TF_path):\n",
    "    executor = submitit.AutoExecutor(folder=os.getcwd()+'/logs/')\n",
    "    executor.update_parameters(mem_gb=4, timeout_min=300, slurm_partition=\"CPU\", cpus_per_task=1, slurm_comment='compute_epochTFR')\n",
    "    job = executor.submit(plot_images, pid)"
   ]
  }
 ],
 "metadata": {
  "kernelspec": {
   "display_name": "crnlenv",
   "language": "python",
   "name": "python3"
  },
  "language_info": {
   "codemirror_mode": {
    "name": "ipython",
    "version": 3
   },
   "file_extension": ".py",
   "mimetype": "text/x-python",
   "name": "python",
   "nbconvert_exporter": "python",
   "pygments_lexer": "ipython3",
   "version": "3.9.19"
  }
 },
 "nbformat": 4,
 "nbformat_minor": 2
}
