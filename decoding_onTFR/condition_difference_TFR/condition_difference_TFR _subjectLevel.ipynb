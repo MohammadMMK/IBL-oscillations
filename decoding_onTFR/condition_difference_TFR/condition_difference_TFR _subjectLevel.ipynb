{
 "cells": [
  {
   "cell_type": "markdown",
   "metadata": {},
   "source": [
    "# level of analysis : (subject level)"
   ]
  },
  {
   "cell_type": "code",
   "execution_count": null,
   "metadata": {},
   "outputs": [],
   "source": [
    "import mne\n",
    "import os \n",
    "import numpy as np\n",
    "import submitit\n",
    "import pandas as pd \n",
    "import math \n",
    "import matplotlib.pyplot as plt\n",
    "from mne.stats import permutation_cluster_test\n",
    "import h5py"
   ]
  }
 ],
 "metadata": {
  "kernelspec": {
   "display_name": "crnlenv",
   "language": "python",
   "name": "python3"
  },
  "language_info": {
   "codemirror_mode": {
    "name": "ipython",
    "version": 3
   },
   "file_extension": ".py",
   "mimetype": "text/x-python",
   "name": "python",
   "nbconvert_exporter": "python",
   "pygments_lexer": "ipython3",
   "version": "3.9.19"
  }
 },
 "nbformat": 4,
 "nbformat_minor": 2
}
