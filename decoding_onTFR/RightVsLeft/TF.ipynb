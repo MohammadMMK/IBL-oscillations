{
 "cells": [
  {
   "cell_type": "code",
   "execution_count": null,
   "metadata": {},
   "outputs": [],
   "source": [
    "import mne\n",
    "import numpy as np\n",
    "import os\n",
    "import pandas as pd\n",
    "import pickle\n",
    "import submitit\n",
    "import matplotlib.pyplot as plt\n",
    "import re "
   ]
  },
  {
   "cell_type": "markdown",
   "metadata": {},
   "source": [
    "# on CSD"
   ]
  },
  {
   "cell_type": "code",
   "execution_count": null,
   "metadata": {},
   "outputs": [],
   "source": [
    "pid_path = '/mnt/data/AdaptiveControl/IBLrawdata/pid_data'\n",
    "for pid in os.listdir(pid_path):\n",
    "    \n",
    "    \n",
    "def TF_multitaper(pid, eid)\n",
    "    try: \n",
    "        lfp_path = os.path.join(pid_path, pid, f'lfp_{pid}_raw_annoted')\n",
    "        raw = mne.io.read_raw_fif(lfp_path, preload=True)\n",
    "        # Compile the regular expression pattern\n",
    "        pattern = re.compile('^VISp[12456]')\n",
    "        visual_cahannels = [ch for ch in raw.ch_names if pattern.match(ch)]\n",
    "        raw = raw.pick_channels(visual_cahannels)\n",
    "        events, event_id = mne.events_from_annotations(raw)\n",
    "        behavior_stimOnset = behavior.dropna(subset=['stimOn_times'])# Drop rows where 'feedback_times' is NaN\n",
    "        stimOn_times_events = events[events[:, 2] == event_id['stimOn_times']]\n",
    "        epochs = mne.Epochs(raw, stimOn_times_events, event_id['stimOn_times'], tmin, tmax, baseline=None, preload=True, metadata=behavior_stimOnset)\n",
    "        \n",
    "        "
   ]
  },
  {
   "cell_type": "code",
   "execution_count": null,
   "metadata": {},
   "outputs": [],
   "source": []
  }
 ],
 "metadata": {
  "language_info": {
   "name": "python"
  }
 },
 "nbformat": 4,
 "nbformat_minor": 2
}
