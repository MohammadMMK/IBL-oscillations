{
 "cells": [
  {
   "cell_type": "code",
   "execution_count": 1,
   "metadata": {},
   "outputs": [
    {
     "ename": "",
     "evalue": "",
     "output_type": "error",
     "traceback": [
      "\u001b[1;31mThe Kernel crashed while executing code in the current cell or a previous cell. \n",
      "\u001b[1;31mPlease review the code in the cell(s) to identify a possible cause of the failure. \n",
      "\u001b[1;31mClick <a href='https://aka.ms/vscodeJupyterKernelCrash'>here</a> for more info. \n",
      "\u001b[1;31mView Jupyter <a href='command:jupyter.viewOutput'>log</a> for further details."
     ]
    }
   ],
   "source": [
    "import numpy as np\n",
    "from pathlib import Path\n",
    "from brainrender.scene import Scene\n",
    "from brainrender.video import VideoMaker\n",
    "from vedo import Points\n",
    "\n",
    "# Patch the Scene's close method to handle NoneType plotter\n",
    "def patched_close(self):\n",
    "    if hasattr(self, 'plotter') and self.plotter is not None:\n",
    "        self.plotter.close()\n",
    "\n",
    "Scene.close = patched_close\n",
    "\n",
    "# Load data\n",
    "def load_data():\n",
    "    import pickle\n",
    "    file_path = 'test_data.pkl'\n",
    "    with open(file_path, 'rb') as f:\n",
    "        data = pickle.load(f)\n",
    "    decodability = data['decodability_scores']\n",
    "    depth_info = data['depth_info']\n",
    "    x, y, z = depth_info['x_coordinates'], depth_info['y_coordinates'], depth_info['z_coordinates']\n",
    "    return x, y, z, decodability\n",
    "\n",
    "# Update scene\n",
    "def update_scene(scene, x, y, z, decodability, time_index):\n",
    "    scene.clear_actors()\n",
    "    current_decodability = decodability[:, time_index]\n",
    "    coords = np.vstack((x, y, z)).T\n",
    "    colors = np.interp(current_decodability, (0, 1), (0, 255))\n",
    "    points = Points(coords, r=10, c=colors)\n",
    "    scene.add(points)\n",
    "\n",
    "# Create video\n",
    "def create_video(x, y, z, decodability, output_path, num_frames):\n",
    "    scene = Scene(atlas_name=None)  # Disable atlas for testing\n",
    "    def make_frame(scene, frame_number, nframes=None, resetcam=False, *args, **kwargs):\n",
    "        update_scene(scene, x, y, z, decodability, frame_number)\n",
    "\n",
    "    video_maker = VideoMaker(\n",
    "        scene=scene,\n",
    "        save_fld=output_path,\n",
    "        name=\"decodability_animation\",\n",
    "        fmt=\"mp4\",\n",
    "        size=\"1920x1080\",\n",
    "        make_frame_func=make_frame\n",
    "    )\n",
    "    video_maker.make_video(duration=num_frames / 10, fps=10)\n",
    "\n",
    "# Main\n",
    "if __name__ == \"__main__\":\n",
    "    output_folder = Path(\"output/videos/\")\n",
    "    output_folder.mkdir(parents=True, exist_ok=True)\n",
    "\n",
    "    x, y, z, decodability = load_data()\n",
    "\n",
    "    # Testing: Use only a subset\n",
    "    test_points = 100\n",
    "    test_timepoints = 10\n",
    "    x, y, z = x[:test_points], y[:test_points], z[:test_points]\n",
    "    decodability = decodability[:test_points, :test_timepoints]\n",
    "\n",
    "    create_video(x, y, z, decodability, output_folder, test_timepoints)\n"
   ]
  },
  {
   "cell_type": "code",
   "execution_count": 1,
   "metadata": {},
   "outputs": [],
   "source": [
    "from brainrender import Scene\n",
    "from brainrender.actors import Points\n",
    "import numpy as np\n",
    "import matplotlib.pyplot as plt\n",
    "import vedo\n"
   ]
  },
  {
   "cell_type": "code",
   "execution_count": 4,
   "metadata": {},
   "outputs": [
    {
     "ename": "",
     "evalue": "",
     "output_type": "error",
     "traceback": [
      "\u001b[1;31mThe Kernel crashed while executing code in the current cell or a previous cell. \n",
      "\u001b[1;31mPlease review the code in the cell(s) to identify a possible cause of the failure. \n",
      "\u001b[1;31mClick <a href='https://aka.ms/vscodeJupyterKernelCrash'>here</a> for more info. \n",
      "\u001b[1;31mView Jupyter <a href='command:jupyter.viewOutput'>log</a> for further details."
     ]
    }
   ],
   "source": [
    "\n",
    "import vedo \n",
    "from brainrender import Scene\n",
    "popup_scene = Scene(atlas_name='allen_mouse_50um', title='popup')\n",
    "\n",
    "popup_scene.add_brain_region('VISp')\n",
    "\n",
    "from vedo import show                                                                                              \n",
    "vedo.show(*popup_scene.renderables)"
   ]
  },
  {
   "cell_type": "code",
   "execution_count": null,
   "metadata": {},
   "outputs": [],
   "source": [
    "# Initialize the scene\n",
    "scene = Scene(title=\"Random Points in VISp\")\n",
    "\n",
    "# Example coordinates\n",
    "coordinates = np.random.uniform(5000, 7000, (100, 3))\n",
    "cmap = plt.cm.viridis\n",
    "colors = [cmap(val)[:3] for val in np.linspace(0, 1, len(coordinates))]\n",
    "\n"
   ]
  },
  {
   "cell_type": "code",
   "execution_count": 3,
   "metadata": {},
   "outputs": [
    {
     "ename": "",
     "evalue": "",
     "output_type": "error",
     "traceback": [
      "\u001b[1;31mThe Kernel crashed while executing code in the current cell or a previous cell. \n",
      "\u001b[1;31mPlease review the code in the cell(s) to identify a possible cause of the failure. \n",
      "\u001b[1;31mClick <a href='https://aka.ms/vscodeJupyterKernelCrash'>here</a> for more info. \n",
      "\u001b[1;31mView Jupyter <a href='command:jupyter.viewOutput'>log</a> for further details."
     ]
    }
   ],
   "source": [
    "# Add VISp region and points\n",
    "scene.add_brain_region(\"VISp\", alpha=0.2)\n",
    "scene.add(Points(coordinates, colors=colors, radius=50))\n",
    "\n",
    "# Render and save without displaying\n",
    "scene.render(interactive=True)  "
   ]
  }
 ],
 "metadata": {
  "kernelspec": {
   "display_name": "iblenv",
   "language": "python",
   "name": "python3"
  },
  "language_info": {
   "codemirror_mode": {
    "name": "ipython",
    "version": 3
   },
   "file_extension": ".py",
   "mimetype": "text/x-python",
   "name": "python",
   "nbconvert_exporter": "python",
   "pygments_lexer": "ipython3",
   "version": "3.10.14"
  }
 },
 "nbformat": 4,
 "nbformat_minor": 4
}
