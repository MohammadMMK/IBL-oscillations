{
 "cells": [
  {
   "cell_type": "markdown",
   "metadata": {},
   "source": [
    "In this notebook we try to test the mice engagments in the task. here I will test the successful trials when the contrast is one (left/right)"
   ]
  },
  {
   "cell_type": "code",
   "execution_count": 1,
   "metadata": {},
   "outputs": [],
   "source": [
    "import os\n",
    "import numpy as np  \n",
    "import pandas as pd\n",
    "import matplotlib.pyplot as plt\n",
    "import pickle"
   ]
  },
  {
   "cell_type": "code",
   "execution_count": 10,
   "metadata": {},
   "outputs": [
    {
     "name": "stdout",
     "output_type": "stream",
     "text": [
      "No trial file for 7b26ce84-07f9-43d1-957f-bc72aeb730a3\n"
     ]
    }
   ],
   "source": [
    "base_path = '/mnt/data/AdaptiveControl/IBLrawdata/eid_data'\n",
    "eid_lists = os.listdir(base_path)\n",
    "success_rate_list = []\n",
    "for eid in eid_lists:\n",
    "    trial_path = os.path.join(base_path, eid, f'trials_{eid}.pkl')\n",
    "    if not os.path.isfile(trial_path):\n",
    "        print(f'No trial file for {eid}')\n",
    "        success_rate = 'Na'\n",
    "        success_rate_list.append(success_rate)\n",
    "        continue\n",
    "    trial = pd.read_pickle(trial_path)\n",
    "    full_contrast = trial[(trial['contrastRight'] == 1) | (trial['contrastLeft'] == 1)]\n",
    "    num_full_contrast = len(full_contrast)\n",
    "    numb_success = len(full_contrast[full_contrast['feedbackType'] == 1])\n",
    "    success_rate = numb_success / num_full_contrast * 100\n",
    "    success_rate_list.append(success_rate)\n",
    "\n",
    "# a table with success rate for each session\n",
    "success_rate_table = pd.DataFrame({'eid': eid_lists, 'success_rate': success_rate_list})\n",
    "success_rate_table.to_csv('success_rate_table.csv', index=False)"
   ]
  }
 ],
 "metadata": {
  "kernelspec": {
   "display_name": "iblenv",
   "language": "python",
   "name": "python3"
  },
  "language_info": {
   "codemirror_mode": {
    "name": "ipython",
    "version": 3
   },
   "file_extension": ".py",
   "mimetype": "text/x-python",
   "name": "python",
   "nbconvert_exporter": "python",
   "pygments_lexer": "ipython3",
   "version": "3.10.12"
  }
 },
 "nbformat": 4,
 "nbformat_minor": 2
}
